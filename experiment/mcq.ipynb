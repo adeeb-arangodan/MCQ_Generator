{
 "cells": [
  {
   "cell_type": "code",
   "execution_count": 8,
   "metadata": {},
   "outputs": [],
   "source": [
    "import os\n",
    "import json\n",
    "import pandas as pd\n",
    "import traceback\n",
    "from dotenv import load_dotenv\n",
    "from langchain.chat_models import ChatOpenAI\n",
    "from langchain.llms import OpenAI\n",
    "from langchain.prompts import PromptTemplate\n",
    "from langchain.chains import LLMChain, SequentialChain\n",
    "from langchain.callbacks import get_openai_callback"
   ]
  },
  {
   "cell_type": "code",
   "execution_count": 3,
   "metadata": {},
   "outputs": [],
   "source": [
    "load_dotenv()\n",
    "KEY = os.getenv('OPENAI_API_KEY')"
   ]
  },
  {
   "cell_type": "code",
   "execution_count": 7,
   "metadata": {},
   "outputs": [
    {
     "name": "stderr",
     "output_type": "stream",
     "text": [
      "C:\\Users\\Adeeb\\AppData\\Local\\Temp\\ipykernel_11524\\2478737479.py:1: LangChainDeprecationWarning: The class `ChatOpenAI` was deprecated in LangChain 0.0.10 and will be removed in 1.0. An updated version of the class exists in the langchain-openai package and should be used instead. To use it run `pip install -U langchain-openai` and import as `from langchain_openai import ChatOpenAI`.\n",
      "  llm = ChatOpenAI(openai_api_key=KEY, model_name='gpt-3.5-turbo', temperature=.7)\n"
     ]
    }
   ],
   "source": [
    "llm = ChatOpenAI(openai_api_key=KEY, model_name='gpt-3.5-turbo', temperature=.7)"
   ]
  },
  {
   "cell_type": "code",
   "execution_count": 19,
   "metadata": {},
   "outputs": [],
   "source": [
    "file_path = './data.txt'\n",
    "TEXT = ''\n",
    "with open(file_path, 'r') as file:\n",
    "    TEXT = file.read()\n",
    "\n",
    "JSON_FORMAT = {\n",
    "    \"1\": {\n",
    "        \"mcq\": \"Ask the first question\",\n",
    "        \"options\": {\n",
    "            \"a\": 'option 1',\n",
    "            \"b\": 'option 2',\n",
    "            \"c\": 'option 3',\n",
    "            \"d\": 'option 4'\n",
    "        },\n",
    "        \"correct_answer\": \"a\"\n",
    "    },\n",
    "    \"2\": {\n",
    "        \"mcq\": \"Ask the second question\",\n",
    "        \"options\": {\n",
    "            \"a\": 'option 1',\n",
    "            \"b\": 'option 2',\n",
    "            \"c\": 'option 3',\n",
    "            \"d\": 'option 4'\n",
    "        },\n",
    "        \"correct_answer\": \"b\"\n",
    "    },\n",
    "    \"3\": {\n",
    "        \"mcq\": \"Ask the Third question\",\n",
    "        \"options\": {\n",
    "            \"a\": 'option 1',\n",
    "            \"b\": 'option 2',\n",
    "            \"c\": 'option 3',\n",
    "            \"d\": 'option 4'\n",
    "        },\n",
    "        \"correct_answer\": \"d\"\n",
    "    }\n",
    "}\n",
    "\n",
    "NUMBER = 5\n",
    "SUBJECT = 'Machine Learning'\n",
    "TONE = 'Hard'\n",
    "json_format_string = json.dumps(JSON_FORMAT)\n",
    "\n",
    "quiz_generation_template = '''You are a quiz master bot. You are provided with a Input Text. \n",
    "You need to generate {number} question quiz based on the provided text for {subject} students. You need to \n",
    "set the difficulty level to {tone} level. The output should be in JSON Format as specified at the end of the prompt \n",
    "\n",
    "INPUT TEXT: {text}\n",
    "\n",
    "Use the above input text to generate quiz and produce the output in JSON Format as shown below.\n",
    "\n",
    "### OUTPUT JSON Format: \n",
    "{json_format}\n",
    "'''\n",
    "prompt_template = PromptTemplate(\n",
    "    input_variables=['number','subject', 'tone', 'text', 'json_format'],\n",
    "    template=quiz_generation_template\n",
    ")\n",
    "\n",
    "# client = OpenAI(model_name='gpt-3.5-turbo', openai_api_key=KEY)\n",
    "quiz_chain = LLMChain(llm=llm, prompt=prompt_template)\n",
    "\n",
    "response = quiz_chain.invoke({\n",
    "    'number': NUMBER,\n",
    "    'subject': SUBJECT,\n",
    "    'tone': TONE,\n",
    "    'text': TEXT,\n",
    "    'json_format': json_format_string\n",
    "})\n"
   ]
  },
  {
   "cell_type": "code",
   "execution_count": 28,
   "metadata": {},
   "outputs": [
    {
     "data": {
      "text/plain": [
       "{'1': {'mcq': 'Who coined the term machine learning in 1959?',\n",
       "  'options': {'a': 'Donald Hebb',\n",
       "   'b': 'Walter Pitts',\n",
       "   'c': 'Tom M. Mitchell',\n",
       "   'd': 'Arthur Samuel'},\n",
       "  'correct_answer': 'd'},\n",
       " '2': {'mcq': \"What was the name of the experimental 'learning machine' developed by Raytheon Company in the early 1960s?\",\n",
       "  'options': {'a': 'Cybernet',\n",
       "   'b': 'Cybertron',\n",
       "   'c': 'Cyberware',\n",
       "   'd': 'Cybermind'},\n",
       "  'correct_answer': 'b'},\n",
       " '3': {'mcq': 'According to Tom M. Mitchell, what is the definition of machine learning algorithms?',\n",
       "  'options': {'a': 'Learning from experience E with respect to tasks T and performance measure P',\n",
       "   'b': 'Learning from experience T with respect to tasks E and performance measure P',\n",
       "   'c': 'Learning from experience P with respect to tasks T and performance measure E',\n",
       "   'd': 'Learning from experience E with respect to performance measure P and tasks T'},\n",
       "  'correct_answer': 'a'},\n",
       " '4': {'mcq': 'What is one of the objectives of modern-day machine learning?',\n",
       "  'options': {'a': 'To create new models',\n",
       "   'b': 'To make predictions for future outcomes',\n",
       "   'c': 'To analyze historical data',\n",
       "   'd': 'To improve existing algorithms'},\n",
       "  'correct_answer': 'b'},\n",
       " '5': {'mcq': 'What is the purpose of a hypothetical algorithm specific to classifying data?',\n",
       "  'options': {'a': 'To predict future outcomes',\n",
       "   'b': 'To analyze current trends',\n",
       "   'c': 'To train models using supervised learning',\n",
       "   'd': 'To classify data based on developed models'},\n",
       "  'correct_answer': 'd'}}"
      ]
     },
     "execution_count": 28,
     "metadata": {},
     "output_type": "execute_result"
    }
   ],
   "source": [
    "mcq_json = json.loads(response['text'])\n",
    "mcq_json"
   ]
  },
  {
   "cell_type": "code",
   "execution_count": 46,
   "metadata": {},
   "outputs": [
    {
     "data": {
      "text/plain": [
       "[{'mcq': 'Who coined the term machine learning in 1959?',\n",
       "  'options': 'a: Donald Hebb | b: Walter Pitts | c: Tom M. Mitchell | d: Arthur Samuel',\n",
       "  'answer': 'd'},\n",
       " {'mcq': \"What was the name of the experimental 'learning machine' developed by Raytheon Company in the early 1960s?\",\n",
       "  'options': 'a: Cybernet | b: Cybertron | c: Cyberware | d: Cybermind',\n",
       "  'answer': 'b'},\n",
       " {'mcq': 'According to Tom M. Mitchell, what is the definition of machine learning algorithms?',\n",
       "  'options': 'a: Learning from experience E with respect to tasks T and performance measure P | b: Learning from experience T with respect to tasks E and performance measure P | c: Learning from experience P with respect to tasks T and performance measure E | d: Learning from experience E with respect to performance measure P and tasks T',\n",
       "  'answer': 'a'},\n",
       " {'mcq': 'What is one of the objectives of modern-day machine learning?',\n",
       "  'options': 'a: To create new models | b: To make predictions for future outcomes | c: To analyze historical data | d: To improve existing algorithms',\n",
       "  'answer': 'b'},\n",
       " {'mcq': 'What is the purpose of a hypothetical algorithm specific to classifying data?',\n",
       "  'options': 'a: To predict future outcomes | b: To analyze current trends | c: To train models using supervised learning | d: To classify data based on developed models',\n",
       "  'answer': 'd'}]"
      ]
     },
     "execution_count": 46,
     "metadata": {},
     "output_type": "execute_result"
    }
   ],
   "source": [
    "questions = []\n",
    "for index, item in mcq_json.items():\n",
    "    mcq = item['mcq']\n",
    "    \n",
    "    options = ' | '.join(\n",
    "        [f\"{option}: {option_value}\" for option, option_value in item['options'].items()]\n",
    "    )\n",
    "    correct_answer = item['correct_answer']\n",
    "    questions.append({\n",
    "        'mcq': mcq,\n",
    "        'options': options,\n",
    "        'answer': correct_answer\n",
    "    })\n",
    "questions\n"
   ]
  },
  {
   "cell_type": "code",
   "execution_count": 49,
   "metadata": {},
   "outputs": [
    {
     "data": {
      "text/html": [
       "<div>\n",
       "<style scoped>\n",
       "    .dataframe tbody tr th:only-of-type {\n",
       "        vertical-align: middle;\n",
       "    }\n",
       "\n",
       "    .dataframe tbody tr th {\n",
       "        vertical-align: top;\n",
       "    }\n",
       "\n",
       "    .dataframe thead th {\n",
       "        text-align: right;\n",
       "    }\n",
       "</style>\n",
       "<table border=\"1\" class=\"dataframe\">\n",
       "  <thead>\n",
       "    <tr style=\"text-align: right;\">\n",
       "      <th></th>\n",
       "      <th>mcq</th>\n",
       "      <th>options</th>\n",
       "      <th>answer</th>\n",
       "    </tr>\n",
       "  </thead>\n",
       "  <tbody>\n",
       "    <tr>\n",
       "      <th>0</th>\n",
       "      <td>Who coined the term machine learning in 1959?</td>\n",
       "      <td>a: Donald Hebb | b: Walter Pitts | c: Tom M. M...</td>\n",
       "      <td>d</td>\n",
       "    </tr>\n",
       "    <tr>\n",
       "      <th>1</th>\n",
       "      <td>What was the name of the experimental 'learnin...</td>\n",
       "      <td>a: Cybernet | b: Cybertron | c: Cyberware | d:...</td>\n",
       "      <td>b</td>\n",
       "    </tr>\n",
       "    <tr>\n",
       "      <th>2</th>\n",
       "      <td>According to Tom M. Mitchell, what is the defi...</td>\n",
       "      <td>a: Learning from experience E with respect to ...</td>\n",
       "      <td>a</td>\n",
       "    </tr>\n",
       "    <tr>\n",
       "      <th>3</th>\n",
       "      <td>What is one of the objectives of modern-day ma...</td>\n",
       "      <td>a: To create new models | b: To make predictio...</td>\n",
       "      <td>b</td>\n",
       "    </tr>\n",
       "    <tr>\n",
       "      <th>4</th>\n",
       "      <td>What is the purpose of a hypothetical algorith...</td>\n",
       "      <td>a: To predict future outcomes | b: To analyze ...</td>\n",
       "      <td>d</td>\n",
       "    </tr>\n",
       "  </tbody>\n",
       "</table>\n",
       "</div>"
      ],
      "text/plain": [
       "                                                 mcq  \\\n",
       "0      Who coined the term machine learning in 1959?   \n",
       "1  What was the name of the experimental 'learnin...   \n",
       "2  According to Tom M. Mitchell, what is the defi...   \n",
       "3  What is one of the objectives of modern-day ma...   \n",
       "4  What is the purpose of a hypothetical algorith...   \n",
       "\n",
       "                                             options answer  \n",
       "0  a: Donald Hebb | b: Walter Pitts | c: Tom M. M...      d  \n",
       "1  a: Cybernet | b: Cybertron | c: Cyberware | d:...      b  \n",
       "2  a: Learning from experience E with respect to ...      a  \n",
       "3  a: To create new models | b: To make predictio...      b  \n",
       "4  a: To predict future outcomes | b: To analyze ...      d  "
      ]
     },
     "execution_count": 49,
     "metadata": {},
     "output_type": "execute_result"
    }
   ],
   "source": [
    "questions_df = pd.DataFrame(questions)\n",
    "questions_df.head()\n"
   ]
  },
  {
   "cell_type": "code",
   "execution_count": null,
   "metadata": {},
   "outputs": [],
   "source": [
    "questions_df.to_csv('./quiz.csv')"
   ]
  }
 ],
 "metadata": {
  "kernelspec": {
   "display_name": "Python 3",
   "language": "python",
   "name": "python3"
  },
  "language_info": {
   "codemirror_mode": {
    "name": "ipython",
    "version": 3
   },
   "file_extension": ".py",
   "mimetype": "text/x-python",
   "name": "python",
   "nbconvert_exporter": "python",
   "pygments_lexer": "ipython3",
   "version": "3.8.20"
  }
 },
 "nbformat": 4,
 "nbformat_minor": 2
}
