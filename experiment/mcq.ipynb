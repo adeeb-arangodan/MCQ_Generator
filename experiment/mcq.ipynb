{
 "cells": [
  {
   "cell_type": "code",
   "execution_count": 8,
   "metadata": {},
   "outputs": [],
   "source": [
    "import os\n",
    "import json\n",
    "import pandas as pd\n",
    "import traceback\n",
    "from dotenv import load_dotenv\n",
    "from langchain.chat_models import ChatOpenAI\n",
    "from langchain.llms import OpenAI\n",
    "from langchain.prompts import PromptTemplate\n",
    "from langchain.chains import LLMChain, SequentialChain\n",
    "from langchain.callbacks import get_openai_callback"
   ]
  },
  {
   "cell_type": "code",
   "execution_count": 3,
   "metadata": {},
   "outputs": [],
   "source": [
    "load_dotenv()\n",
    "KEY = os.getenv('OPENAI_API_KEY')"
   ]
  },
  {
   "cell_type": "code",
   "execution_count": 7,
   "metadata": {},
   "outputs": [
    {
     "name": "stderr",
     "output_type": "stream",
     "text": [
      "C:\\Users\\Adeeb\\AppData\\Local\\Temp\\ipykernel_11524\\2478737479.py:1: LangChainDeprecationWarning: The class `ChatOpenAI` was deprecated in LangChain 0.0.10 and will be removed in 1.0. An updated version of the class exists in the langchain-openai package and should be used instead. To use it run `pip install -U langchain-openai` and import as `from langchain_openai import ChatOpenAI`.\n",
      "  llm = ChatOpenAI(openai_api_key=KEY, model_name='gpt-3.5-turbo', temperature=.7)\n"
     ]
    }
   ],
   "source": [
    "llm = ChatOpenAI(openai_api_key=KEY, model_name='gpt-3.5-turbo', temperature=.7)"
   ]
  },
  {
   "cell_type": "code",
   "execution_count": 64,
   "metadata": {},
   "outputs": [],
   "source": [
    "file_path = './data.txt'\n",
    "TEXT = ''\n",
    "with open(file_path, 'r') as file:\n",
    "    TEXT = file.read()\n",
    "\n",
    "JSON_FORMAT = {\n",
    "    \"1\": {\n",
    "        \"mcq\": \"Ask the first question\",\n",
    "        \"options\": {\n",
    "            \"a\": 'option 1',\n",
    "            \"b\": 'option 2',\n",
    "            \"c\": 'option 3',\n",
    "            \"d\": 'option 4'\n",
    "        },\n",
    "        \"correct_answer\": \"a\"\n",
    "    },\n",
    "    \"2\": {\n",
    "        \"mcq\": \"Ask the second question\",\n",
    "        \"options\": {\n",
    "            \"a\": 'option 1',\n",
    "            \"b\": 'option 2',\n",
    "            \"c\": 'option 3',\n",
    "            \"d\": 'option 4'\n",
    "        },\n",
    "        \"correct_answer\": \"b\"\n",
    "    },\n",
    "    \"3\": {\n",
    "        \"mcq\": \"Ask the Third question\",\n",
    "        \"options\": {\n",
    "            \"a\": 'option 1',\n",
    "            \"b\": 'option 2',\n",
    "            \"c\": 'option 3',\n",
    "            \"d\": 'option 4'\n",
    "        },\n",
    "        \"correct_answer\": \"d\"\n",
    "    }\n",
    "}\n",
    "\n",
    "NUMBER = 5\n",
    "SUBJECT = 'Machine Learning'\n",
    "TONE = 'Hard'\n",
    "json_format_string = json.dumps(JSON_FORMAT)\n",
    "\n",
    "quiz_generation_template = '''You are a quiz master bot. You are provided with a Input Text. \n",
    "You need to generate {number} question quiz based on the provided text for {subject} students. You need to \n",
    "set the difficulty level to {tone} level. The output should be in JSON Format as specified at the end of the prompt \n",
    "\n",
    "INPUT TEXT: {text}\n",
    "\n",
    "Use the above input text to generate quiz and produce the output in JSON Format as shown below.\n",
    "\n",
    "### OUTPUT JSON Format: \n",
    "{json_format}\n",
    "'''\n",
    "prompt_template = PromptTemplate(\n",
    "    input_variables=['number','subject', 'tone', 'text', 'json_format'],\n",
    "    template=quiz_generation_template\n",
    ")\n",
    "\n",
    "# client = OpenAI(model_name='gpt-3.5-turbo', openai_api_key=KEY)\n",
    "quiz_chain = LLMChain(llm=llm, prompt=prompt_template, output_key='quiz_content', verbose=True)\n",
    "\n",
    "# response = quiz_chain.invoke({\n",
    "#     'number': NUMBER,\n",
    "#     'subject': SUBJECT,\n",
    "#     'tone': TONE,\n",
    "#     'text': TEXT,\n",
    "#     'json_format': json_format_string\n",
    "# })\n"
   ]
  },
  {
   "cell_type": "code",
   "execution_count": 73,
   "metadata": {},
   "outputs": [
    {
     "name": "stderr",
     "output_type": "stream",
     "text": [
      "Error in StdOutCallbackHandler.on_chain_start callback: AttributeError(\"'NoneType' object has no attribute 'get'\")\n"
     ]
    },
    {
     "name": "stdout",
     "output_type": "stream",
     "text": [
      "Prompt after formatting:\n",
      "\u001b[32;1m\u001b[1;3mYou are a quiz master bot. You are provided with a Input Text. \n",
      "You need to generate 5 question quiz based on the provided text for Machine Learning students. You need to \n",
      "set the difficulty level to Hard level. The output should be in JSON Format as specified at the end of the prompt \n",
      "\n",
      "INPUT TEXT: The term machine learning was coined in 1959 by Arthur Samuel, an IBM employee and pioneer in the field of computer gaming and artificial intelligence.[8][9] The synonym self-teaching computers was also used in this time period.[10][11]\n",
      "\n",
      "Although the earliest machine learning model was introduced in the 1950s when Arthur Samuel invented a program that calculated the winning chance in checkers for each side, the history of machine learning roots back to decades of human desire and effort to study human cognitive processes.[12] In 1949, Canadian psychologist Donald Hebb published the book The Organization of Behavior, in which he introduced a theoretical neural structure formed by certain interactions among nerve cells.[13] Hebb's model of neurons interacting with one another set a groundwork for how AIs and machine learning algorithms work under nodes, or artificial neurons used by computers to communicate data.[12] Other researchers who have studied human cognitive systems contributed to the modern machine learning technologies as well, including logician Walter Pitts and Warren McCulloch, who proposed the early mathematical models of neural networks to come up with algorithms that mirror human thought processes.[12]\n",
      "\n",
      "By the early 1960s, an experimental \"learning machine\" with punched tape memory, called Cybertron, had been developed by Raytheon Company to analyze sonar signals, electrocardiograms, and speech patterns using rudimentary reinforcement learning. It was repetitively \"trained\" by a human operator/teacher to recognize patterns and equipped with a \"goof\" button to cause it to reevaluate incorrect decisions.[14] A representative book on research into machine learning during the 1960s was Nilsson's book on Learning Machines, dealing mostly with machine learning for pattern classification.[15] Interest related to pattern recognition continued into the 1970s, as described by Duda and Hart in 1973.[16] In 1981 a report was given on using teaching strategies so that an artificial neural network learns to recognize 40 characters (26 letters, 10 digits, and 4 special symbols) from a computer terminal.[17]\n",
      "\n",
      "Tom M. Mitchell provided a widely quoted, more formal definition of the algorithms studied in the machine learning field: \"A computer program is said to learn from experience E with respect to some class of tasks T and performance measure P if its performance at tasks in T, as measured by P, improves with experience E.\"[18] This definition of the tasks in which machine learning is concerned offers a fundamentally operational definition rather than defining the field in cognitive terms. This follows Alan Turing's proposal in his paper \"Computing Machinery and Intelligence\", in which the question \"Can machines think?\" is replaced with the question \"Can machines do what we (as thinking entities) can do?\".[19]\n",
      "\n",
      "Modern-day machine learning has two objectives. One is to classify data based on models which have been developed; the other purpose is to make predictions for future outcomes based on these models. A hypothetical algorithm specific to classifying data may use computer vision of moles coupled with supervised learning in order to train it to classify the cancerous moles. A machine learning algorithm for stock trading may inform the trader of future potential predictions.[20]\n",
      "\n",
      "Use the above input text to generate quiz and produce the output in JSON Format as shown below.\n",
      "\n",
      "### OUTPUT JSON Format: \n",
      "{\"1\": {\"mcq\": \"Ask the first question\", \"options\": {\"a\": \"option 1\", \"b\": \"option 2\", \"c\": \"option 3\", \"d\": \"option 4\"}, \"correct_answer\": \"a\"}, \"2\": {\"mcq\": \"Ask the second question\", \"options\": {\"a\": \"option 1\", \"b\": \"option 2\", \"c\": \"option 3\", \"d\": \"option 4\"}, \"correct_answer\": \"b\"}, \"3\": {\"mcq\": \"Ask the Third question\", \"options\": {\"a\": \"option 1\", \"b\": \"option 2\", \"c\": \"option 3\", \"d\": \"option 4\"}, \"correct_answer\": \"d\"}}\n",
      "\u001b[0m\n"
     ]
    },
    {
     "name": "stderr",
     "output_type": "stream",
     "text": [
      "Error in StdOutCallbackHandler.on_chain_start callback: AttributeError(\"'NoneType' object has no attribute 'get'\")\n"
     ]
    },
    {
     "name": "stdout",
     "output_type": "stream",
     "text": [
      "\n",
      "\u001b[1m> Finished chain.\u001b[0m\n",
      "Prompt after formatting:\n",
      "\u001b[32;1m\u001b[1;3mYou are a English grammerian and writer. Read the quizzes input in {\n",
      "    \"1\": {\n",
      "        \"mcq\": \"Who coined the term 'machine learning' in 1959?\",\n",
      "        \"options\": {\n",
      "            \"a\": \"Donald Hebb\",\n",
      "            \"b\": \"Raytheon Company\",\n",
      "            \"c\": \"Tom M. Mitchell\",\n",
      "            \"d\": \"Arthur Samuel\"\n",
      "        },\n",
      "        \"correct_answer\": \"d\"\n",
      "    },\n",
      "    \"2\": {\n",
      "        \"mcq\": \"Which book introduced a theoretical neural structure formed by certain interactions among nerve cells?\",\n",
      "        \"options\": {\n",
      "            \"a\": \"The Organization of Behavior\",\n",
      "            \"b\": \"Learning Machines\",\n",
      "            \"c\": \"Computing Machinery and Intelligence\",\n",
      "            \"d\": \"Research into Machine Learning\"\n",
      "        },\n",
      "        \"correct_answer\": \"a\"\n",
      "    },\n",
      "    \"3\": {\n",
      "        \"mcq\": \"In which year was a report given on using teaching strategies for recognizing characters from a computer terminal?\",\n",
      "        \"options\": {\n",
      "            \"a\": \"1949\",\n",
      "            \"b\": \"1960\",\n",
      "            \"c\": \"1973\",\n",
      "            \"d\": \"1981\"\n",
      "        },\n",
      "        \"correct_answer\": \"d\"\n",
      "    },\n",
      "    \"4\": {\n",
      "        \"mcq\": \"According to Tom M. Mitchell, what is the definition of machine learning algorithms?\",\n",
      "        \"options\": {\n",
      "            \"a\": \"Learning from experience with respect to tasks and performance\",\n",
      "            \"b\": \"Recognizing patterns using reinforcement learning\",\n",
      "            \"c\": \"Classifying data based on models\",\n",
      "            \"d\": \"Making predictions for future outcomes\"\n",
      "        },\n",
      "        \"correct_answer\": \"a\"\n",
      "    },\n",
      "    \"5\": {\n",
      "        \"mcq\": \"What are the two main objectives of modern-day machine learning?\",\n",
      "        \"options\": {\n",
      "            \"a\": \"To develop neural networks and analyze sonar signals\",\n",
      "            \"b\": \"To classify data based on models and make predictions for future outcomes\",\n",
      "            \"c\": \"To train learning machines with punched tape memory\",\n",
      "            \"d\": \"To recognize patterns using supervised learning\"\n",
      "        },\n",
      "        \"correct_answer\": \"b\"\n",
      "    }\n",
      "} and analyze the complexity of the question for Machine Learning student.\n",
      "If you think, the question doesn't meet the expectations, update the question, options and correct answer accordingly. Make sure the content is from the actual input text.\n",
      "Please try to rewrite the question in a better way\n",
      "### input text\n",
      "The term machine learning was coined in 1959 by Arthur Samuel, an IBM employee and pioneer in the field of computer gaming and artificial intelligence.[8][9] The synonym self-teaching computers was also used in this time period.[10][11]\n",
      "\n",
      "Although the earliest machine learning model was introduced in the 1950s when Arthur Samuel invented a program that calculated the winning chance in checkers for each side, the history of machine learning roots back to decades of human desire and effort to study human cognitive processes.[12] In 1949, Canadian psychologist Donald Hebb published the book The Organization of Behavior, in which he introduced a theoretical neural structure formed by certain interactions among nerve cells.[13] Hebb's model of neurons interacting with one another set a groundwork for how AIs and machine learning algorithms work under nodes, or artificial neurons used by computers to communicate data.[12] Other researchers who have studied human cognitive systems contributed to the modern machine learning technologies as well, including logician Walter Pitts and Warren McCulloch, who proposed the early mathematical models of neural networks to come up with algorithms that mirror human thought processes.[12]\n",
      "\n",
      "By the early 1960s, an experimental \"learning machine\" with punched tape memory, called Cybertron, had been developed by Raytheon Company to analyze sonar signals, electrocardiograms, and speech patterns using rudimentary reinforcement learning. It was repetitively \"trained\" by a human operator/teacher to recognize patterns and equipped with a \"goof\" button to cause it to reevaluate incorrect decisions.[14] A representative book on research into machine learning during the 1960s was Nilsson's book on Learning Machines, dealing mostly with machine learning for pattern classification.[15] Interest related to pattern recognition continued into the 1970s, as described by Duda and Hart in 1973.[16] In 1981 a report was given on using teaching strategies so that an artificial neural network learns to recognize 40 characters (26 letters, 10 digits, and 4 special symbols) from a computer terminal.[17]\n",
      "\n",
      "Tom M. Mitchell provided a widely quoted, more formal definition of the algorithms studied in the machine learning field: \"A computer program is said to learn from experience E with respect to some class of tasks T and performance measure P if its performance at tasks in T, as measured by P, improves with experience E.\"[18] This definition of the tasks in which machine learning is concerned offers a fundamentally operational definition rather than defining the field in cognitive terms. This follows Alan Turing's proposal in his paper \"Computing Machinery and Intelligence\", in which the question \"Can machines think?\" is replaced with the question \"Can machines do what we (as thinking entities) can do?\".[19]\n",
      "\n",
      "Modern-day machine learning has two objectives. One is to classify data based on models which have been developed; the other purpose is to make predictions for future outcomes based on these models. A hypothetical algorithm specific to classifying data may use computer vision of moles coupled with supervised learning in order to train it to classify the cancerous moles. A machine learning algorithm for stock trading may inform the trader of future potential predictions.[20]\n",
      "#\n",
      "\n",
      "produce the output in JSON Format as shown below.\n",
      "###JSON Format: \n",
      "{\"1\": {\"mcq\": \"Ask the first question\", \"options\": {\"a\": \"option 1\", \"b\": \"option 2\", \"c\": \"option 3\", \"d\": \"option 4\"}, \"correct_answer\": \"a\"}, \"2\": {\"mcq\": \"Ask the second question\", \"options\": {\"a\": \"option 1\", \"b\": \"option 2\", \"c\": \"option 3\", \"d\": \"option 4\"}, \"correct_answer\": \"b\"}, \"3\": {\"mcq\": \"Ask the Third question\", \"options\": {\"a\": \"option 1\", \"b\": \"option 2\", \"c\": \"option 3\", \"d\": \"option 4\"}, \"correct_answer\": \"d\"}}\n",
      "# \u001b[0m\n",
      "\n",
      "\u001b[1m> Finished chain.\u001b[0m\n",
      "Tokens Used: 3115\n",
      "\tPrompt Tokens: 2254\n",
      "\tCompletion Tokens: 861\n",
      "Successful Requests: 2\n",
      "Total Cost (USD): $0.005103\n"
     ]
    },
    {
     "data": {
      "text/plain": [
       "{'number': 5,\n",
       " 'subject': 'Machine Learning',\n",
       " 'tone': 'Hard',\n",
       " 'text': 'The term machine learning was coined in 1959 by Arthur Samuel, an IBM employee and pioneer in the field of computer gaming and artificial intelligence.[8][9] The synonym self-teaching computers was also used in this time period.[10][11]\\n\\nAlthough the earliest machine learning model was introduced in the 1950s when Arthur Samuel invented a program that calculated the winning chance in checkers for each side, the history of machine learning roots back to decades of human desire and effort to study human cognitive processes.[12] In 1949, Canadian psychologist Donald Hebb published the book The Organization of Behavior, in which he introduced a theoretical neural structure formed by certain interactions among nerve cells.[13] Hebb\\'s model of neurons interacting with one another set a groundwork for how AIs and machine learning algorithms work under nodes, or artificial neurons used by computers to communicate data.[12] Other researchers who have studied human cognitive systems contributed to the modern machine learning technologies as well, including logician Walter Pitts and Warren McCulloch, who proposed the early mathematical models of neural networks to come up with algorithms that mirror human thought processes.[12]\\n\\nBy the early 1960s, an experimental \"learning machine\" with punched tape memory, called Cybertron, had been developed by Raytheon Company to analyze sonar signals, electrocardiograms, and speech patterns using rudimentary reinforcement learning. It was repetitively \"trained\" by a human operator/teacher to recognize patterns and equipped with a \"goof\" button to cause it to reevaluate incorrect decisions.[14] A representative book on research into machine learning during the 1960s was Nilsson\\'s book on Learning Machines, dealing mostly with machine learning for pattern classification.[15] Interest related to pattern recognition continued into the 1970s, as described by Duda and Hart in 1973.[16] In 1981 a report was given on using teaching strategies so that an artificial neural network learns to recognize 40 characters (26 letters, 10 digits, and 4 special symbols) from a computer terminal.[17]\\n\\nTom M. Mitchell provided a widely quoted, more formal definition of the algorithms studied in the machine learning field: \"A computer program is said to learn from experience E with respect to some class of tasks T and performance measure P if its performance at tasks in T, as measured by P, improves with experience E.\"[18] This definition of the tasks in which machine learning is concerned offers a fundamentally operational definition rather than defining the field in cognitive terms. This follows Alan Turing\\'s proposal in his paper \"Computing Machinery and Intelligence\", in which the question \"Can machines think?\" is replaced with the question \"Can machines do what we (as thinking entities) can do?\".[19]\\n\\nModern-day machine learning has two objectives. One is to classify data based on models which have been developed; the other purpose is to make predictions for future outcomes based on these models. A hypothetical algorithm specific to classifying data may use computer vision of moles coupled with supervised learning in order to train it to classify the cancerous moles. A machine learning algorithm for stock trading may inform the trader of future potential predictions.[20]',\n",
       " 'json_format': '{\"1\": {\"mcq\": \"Ask the first question\", \"options\": {\"a\": \"option 1\", \"b\": \"option 2\", \"c\": \"option 3\", \"d\": \"option 4\"}, \"correct_answer\": \"a\"}, \"2\": {\"mcq\": \"Ask the second question\", \"options\": {\"a\": \"option 1\", \"b\": \"option 2\", \"c\": \"option 3\", \"d\": \"option 4\"}, \"correct_answer\": \"b\"}, \"3\": {\"mcq\": \"Ask the Third question\", \"options\": {\"a\": \"option 1\", \"b\": \"option 2\", \"c\": \"option 3\", \"d\": \"option 4\"}, \"correct_answer\": \"d\"}}',\n",
       " 'quiz_content': '{\\n    \"1\": {\\n        \"mcq\": \"Who coined the term \\'machine learning\\' in 1959?\",\\n        \"options\": {\\n            \"a\": \"Donald Hebb\",\\n            \"b\": \"Raytheon Company\",\\n            \"c\": \"Tom M. Mitchell\",\\n            \"d\": \"Arthur Samuel\"\\n        },\\n        \"correct_answer\": \"d\"\\n    },\\n    \"2\": {\\n        \"mcq\": \"Which book introduced a theoretical neural structure formed by certain interactions among nerve cells?\",\\n        \"options\": {\\n            \"a\": \"The Organization of Behavior\",\\n            \"b\": \"Learning Machines\",\\n            \"c\": \"Computing Machinery and Intelligence\",\\n            \"d\": \"Research into Machine Learning\"\\n        },\\n        \"correct_answer\": \"a\"\\n    },\\n    \"3\": {\\n        \"mcq\": \"In which year was a report given on using teaching strategies for recognizing characters from a computer terminal?\",\\n        \"options\": {\\n            \"a\": \"1949\",\\n            \"b\": \"1960\",\\n            \"c\": \"1973\",\\n            \"d\": \"1981\"\\n        },\\n        \"correct_answer\": \"d\"\\n    },\\n    \"4\": {\\n        \"mcq\": \"According to Tom M. Mitchell, what is the definition of machine learning algorithms?\",\\n        \"options\": {\\n            \"a\": \"Learning from experience with respect to tasks and performance\",\\n            \"b\": \"Recognizing patterns using reinforcement learning\",\\n            \"c\": \"Classifying data based on models\",\\n            \"d\": \"Making predictions for future outcomes\"\\n        },\\n        \"correct_answer\": \"a\"\\n    },\\n    \"5\": {\\n        \"mcq\": \"What are the two main objectives of modern-day machine learning?\",\\n        \"options\": {\\n            \"a\": \"To develop neural networks and analyze sonar signals\",\\n            \"b\": \"To classify data based on models and make predictions for future outcomes\",\\n            \"c\": \"To train learning machines with punched tape memory\",\\n            \"d\": \"To recognize patterns using supervised learning\"\\n        },\\n        \"correct_answer\": \"b\"\\n    }\\n}',\n",
       " 'quiz_after_review': '{\\n    \"1\": {\\n        \"mcq\": \"Who is credited with coining the term \\'machine learning\\' in 1959?\",\\n        \"options\": {\\n            \"a\": \"Donald Hebb\",\\n            \"b\": \"Raytheon Company\",\\n            \"c\": \"Tom M. Mitchell\",\\n            \"d\": \"Arthur Samuel\"\\n        },\\n        \"correct_answer\": \"d\"\\n    },\\n    \"2\": {\\n        \"mcq\": \"Which book introduced a theoretical neural structure based on interactions among nerve cells?\",\\n        \"options\": {\\n            \"a\": \"The Organization of Behavior\",\\n            \"b\": \"Learning Machines\",\\n            \"c\": \"Computing Machinery and Intelligence\",\\n            \"d\": \"Research into Machine Learning\"\\n        },\\n        \"correct_answer\": \"a\"\\n    },\\n    \"3\": {\\n        \"mcq\": \"When was a report presented on using teaching strategies for recognizing characters from a computer terminal?\",\\n        \"options\": {\\n            \"a\": \"1949\",\\n            \"b\": \"1960\",\\n            \"c\": \"1973\",\\n            \"d\": \"1981\"\\n        },\\n        \"correct_answer\": \"d\"\\n    },\\n    \"4\": {\\n        \"mcq\": \"How does Tom M. Mitchell define machine learning algorithms?\",\\n        \"options\": {\\n            \"a\": \"Learning from experience with respect to tasks and performance\",\\n            \"b\": \"Recognizing patterns using reinforcement learning\",\\n            \"c\": \"Classifying data based on models\",\\n            \"d\": \"Making predictions for future outcomes\"\\n        },\\n        \"correct_answer\": \"a\"\\n    },\\n    \"5\": {\\n        \"mcq\": \"What are the primary objectives of modern-day machine learning?\",\\n        \"options\": {\\n            \"a\": \"To develop neural networks and analyze sonar signals\",\\n            \"b\": \"To classify data based on models and make predictions for future outcomes\",\\n            \"c\": \"To train learning machines with punched tape memory\",\\n            \"d\": \"To recognize patterns using supervised learning\"\\n        },\\n        \"correct_answer\": \"b\"\\n    }\\n}'}"
      ]
     },
     "execution_count": 73,
     "metadata": {},
     "output_type": "execute_result"
    }
   ],
   "source": [
    "review_template = '''You are a English grammerian and writer. Read the quizzes input in {quiz_content} and analyze the complexity of the question for {subject} student.\n",
    "If you think, the question doesn't meet the expectations, update the question, options and correct answer accordingly. Make sure the content is from the actual input text.\n",
    "Please try to rewrite the question in a better way\n",
    "### input text\n",
    "{text}\n",
    "#\n",
    "\n",
    "produce the output in JSON Format as shown below.\n",
    "###JSON Format: \n",
    "{json_format}\n",
    "# '''\n",
    "\n",
    "prompt_template_review = PromptTemplate(\n",
    "    input_variables=['quiz_content', 'subject', 'input_text'],\n",
    "    template=review_template\n",
    ")\n",
    "\n",
    "review_chain = LLMChain(llm=llm, prompt=prompt_template_review, output_key='quiz_after_review', verbose=True)\n",
    "# response = quiz_chain.invoke({\n",
    "#     'number': NUMBER,\n",
    "#     'subject': SUBJECT,\n",
    "#     'tone': TONE,\n",
    "#     'text': TEXT,\n",
    "#     'json_format': json_format_string\n",
    "# })\n",
    "\n",
    "sequential_chain = SequentialChain(chains=[quiz_chain, review_chain], input_variables=['number','subject', 'tone', 'text', 'json_format'],\n",
    "                                    output_variables=['quiz_content','quiz_after_review'])\n",
    "\n",
    "with get_openai_callback() as callback:\n",
    "    response = sequential_chain.invoke({\n",
    "        'number': NUMBER,\n",
    "        'subject': SUBJECT,\n",
    "        'tone': TONE,\n",
    "        'text': TEXT,\n",
    "        'json_format': json_format_string\n",
    "    })\n",
    "print(callback)\n",
    "response"
   ]
  },
  {
   "cell_type": "code",
   "execution_count": 75,
   "metadata": {},
   "outputs": [
    {
     "name": "stdout",
     "output_type": "stream",
     "text": [
      "Prompt Tokens:2254\n",
      "Completion Tokens:861\n",
      "Total Cost:0.005103\n"
     ]
    },
    {
     "data": {
      "text/plain": [
       "{'1': {'mcq': \"Who is credited with coining the term 'machine learning' in 1959?\",\n",
       "  'options': {'a': 'Donald Hebb',\n",
       "   'b': 'Raytheon Company',\n",
       "   'c': 'Tom M. Mitchell',\n",
       "   'd': 'Arthur Samuel'},\n",
       "  'correct_answer': 'd'},\n",
       " '2': {'mcq': 'Which book introduced a theoretical neural structure based on interactions among nerve cells?',\n",
       "  'options': {'a': 'The Organization of Behavior',\n",
       "   'b': 'Learning Machines',\n",
       "   'c': 'Computing Machinery and Intelligence',\n",
       "   'd': 'Research into Machine Learning'},\n",
       "  'correct_answer': 'a'},\n",
       " '3': {'mcq': 'When was a report presented on using teaching strategies for recognizing characters from a computer terminal?',\n",
       "  'options': {'a': '1949', 'b': '1960', 'c': '1973', 'd': '1981'},\n",
       "  'correct_answer': 'd'},\n",
       " '4': {'mcq': 'How does Tom M. Mitchell define machine learning algorithms?',\n",
       "  'options': {'a': 'Learning from experience with respect to tasks and performance',\n",
       "   'b': 'Recognizing patterns using reinforcement learning',\n",
       "   'c': 'Classifying data based on models',\n",
       "   'd': 'Making predictions for future outcomes'},\n",
       "  'correct_answer': 'a'},\n",
       " '5': {'mcq': 'What are the primary objectives of modern-day machine learning?',\n",
       "  'options': {'a': 'To develop neural networks and analyze sonar signals',\n",
       "   'b': 'To classify data based on models and make predictions for future outcomes',\n",
       "   'c': 'To train learning machines with punched tape memory',\n",
       "   'd': 'To recognize patterns using supervised learning'},\n",
       "  'correct_answer': 'b'}}"
      ]
     },
     "execution_count": 75,
     "metadata": {},
     "output_type": "execute_result"
    }
   ],
   "source": [
    "print(f'Prompt Tokens:{callback.prompt_tokens}')\n",
    "print(f'Completion Tokens:{callback.completion_tokens}')\n",
    "print(f'Total Cost:{callback.total_cost}')\n",
    "\n",
    "\n",
    "mcq_json = json.loads(response['quiz_after_review'])\n",
    "mcq_json"
   ]
  },
  {
   "cell_type": "code",
   "execution_count": 76,
   "metadata": {},
   "outputs": [
    {
     "data": {
      "text/plain": [
       "[{'mcq': \"Who is credited with coining the term 'machine learning' in 1959?\",\n",
       "  'options': 'a: Donald Hebb | b: Raytheon Company | c: Tom M. Mitchell | d: Arthur Samuel',\n",
       "  'answer': 'd'},\n",
       " {'mcq': 'Which book introduced a theoretical neural structure based on interactions among nerve cells?',\n",
       "  'options': 'a: The Organization of Behavior | b: Learning Machines | c: Computing Machinery and Intelligence | d: Research into Machine Learning',\n",
       "  'answer': 'a'},\n",
       " {'mcq': 'When was a report presented on using teaching strategies for recognizing characters from a computer terminal?',\n",
       "  'options': 'a: 1949 | b: 1960 | c: 1973 | d: 1981',\n",
       "  'answer': 'd'},\n",
       " {'mcq': 'How does Tom M. Mitchell define machine learning algorithms?',\n",
       "  'options': 'a: Learning from experience with respect to tasks and performance | b: Recognizing patterns using reinforcement learning | c: Classifying data based on models | d: Making predictions for future outcomes',\n",
       "  'answer': 'a'},\n",
       " {'mcq': 'What are the primary objectives of modern-day machine learning?',\n",
       "  'options': 'a: To develop neural networks and analyze sonar signals | b: To classify data based on models and make predictions for future outcomes | c: To train learning machines with punched tape memory | d: To recognize patterns using supervised learning',\n",
       "  'answer': 'b'}]"
      ]
     },
     "execution_count": 76,
     "metadata": {},
     "output_type": "execute_result"
    }
   ],
   "source": [
    "questions = []\n",
    "for index, item in mcq_json.items():\n",
    "    mcq = item['mcq']\n",
    "    \n",
    "    options = ' | '.join(\n",
    "        [f\"{option}: {option_value}\" for option, option_value in item['options'].items()]\n",
    "    )\n",
    "    correct_answer = item['correct_answer']\n",
    "    questions.append({\n",
    "        'mcq': mcq,\n",
    "        'options': options,\n",
    "        'answer': correct_answer\n",
    "    })\n",
    "questions\n"
   ]
  },
  {
   "cell_type": "code",
   "execution_count": 70,
   "metadata": {},
   "outputs": [
    {
     "data": {
      "text/html": [
       "<div>\n",
       "<style scoped>\n",
       "    .dataframe tbody tr th:only-of-type {\n",
       "        vertical-align: middle;\n",
       "    }\n",
       "\n",
       "    .dataframe tbody tr th {\n",
       "        vertical-align: top;\n",
       "    }\n",
       "\n",
       "    .dataframe thead th {\n",
       "        text-align: right;\n",
       "    }\n",
       "</style>\n",
       "<table border=\"1\" class=\"dataframe\">\n",
       "  <thead>\n",
       "    <tr style=\"text-align: right;\">\n",
       "      <th></th>\n",
       "      <th>mcq</th>\n",
       "      <th>options</th>\n",
       "      <th>answer</th>\n",
       "    </tr>\n",
       "  </thead>\n",
       "  <tbody>\n",
       "    <tr>\n",
       "      <th>0</th>\n",
       "      <td>Who first introduced the term machine learning...</td>\n",
       "      <td>a: Donald Hebb | b: Raytheon Company | c: Tom ...</td>\n",
       "      <td>d</td>\n",
       "    </tr>\n",
       "    <tr>\n",
       "      <th>1</th>\n",
       "      <td>What was the name of the experimental 'learnin...</td>\n",
       "      <td>a: Cybertron | b: Nilsson's book | c: Duda and...</td>\n",
       "      <td>a</td>\n",
       "    </tr>\n",
       "    <tr>\n",
       "      <th>2</th>\n",
       "      <td>Who provided a formal definition of the algori...</td>\n",
       "      <td>a: Alan Turing | b: Warren McCulloch | c: Rayt...</td>\n",
       "      <td>d</td>\n",
       "    </tr>\n",
       "    <tr>\n",
       "      <th>3</th>\n",
       "      <td>What is one of the main objectives of modern-d...</td>\n",
       "      <td>a: To invent new algorithms | b: To classify d...</td>\n",
       "      <td>b</td>\n",
       "    </tr>\n",
       "    <tr>\n",
       "      <th>4</th>\n",
       "      <td>What did Alan Turing propose in his paper 'Com...</td>\n",
       "      <td>a: Can machines think? | b: Can machines do wh...</td>\n",
       "      <td>b</td>\n",
       "    </tr>\n",
       "  </tbody>\n",
       "</table>\n",
       "</div>"
      ],
      "text/plain": [
       "                                                 mcq  \\\n",
       "0  Who first introduced the term machine learning...   \n",
       "1  What was the name of the experimental 'learnin...   \n",
       "2  Who provided a formal definition of the algori...   \n",
       "3  What is one of the main objectives of modern-d...   \n",
       "4  What did Alan Turing propose in his paper 'Com...   \n",
       "\n",
       "                                             options answer  \n",
       "0  a: Donald Hebb | b: Raytheon Company | c: Tom ...      d  \n",
       "1  a: Cybertron | b: Nilsson's book | c: Duda and...      a  \n",
       "2  a: Alan Turing | b: Warren McCulloch | c: Rayt...      d  \n",
       "3  a: To invent new algorithms | b: To classify d...      b  \n",
       "4  a: Can machines think? | b: Can machines do wh...      b  "
      ]
     },
     "execution_count": 70,
     "metadata": {},
     "output_type": "execute_result"
    }
   ],
   "source": [
    "questions_df = pd.DataFrame(questions)\n",
    "questions_df.head()\n"
   ]
  },
  {
   "cell_type": "code",
   "execution_count": 77,
   "metadata": {},
   "outputs": [],
   "source": [
    "questions_df.to_csv('./quiz.csv')"
   ]
  },
  {
   "cell_type": "code",
   "execution_count": null,
   "metadata": {},
   "outputs": [],
   "source": []
  }
 ],
 "metadata": {
  "kernelspec": {
   "display_name": "Python 3",
   "language": "python",
   "name": "python3"
  },
  "language_info": {
   "codemirror_mode": {
    "name": "ipython",
    "version": 3
   },
   "file_extension": ".py",
   "mimetype": "text/x-python",
   "name": "python",
   "nbconvert_exporter": "python",
   "pygments_lexer": "ipython3",
   "version": "3.8.20"
  }
 },
 "nbformat": 4,
 "nbformat_minor": 2
}
